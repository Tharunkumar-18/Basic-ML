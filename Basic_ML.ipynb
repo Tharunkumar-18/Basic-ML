{
  "nbformat": 4,
  "nbformat_minor": 0,
  "metadata": {
    "colab": {
      "name": "Basic ML.ipynb",
      "provenance": [],
      "authorship_tag": "ABX9TyNXhiBS0NeatxFV37KknY2f",
      "include_colab_link": true
    },
    "kernelspec": {
      "name": "python3",
      "display_name": "Python 3"
    },
    "language_info": {
      "name": "python"
    }
  },
  "cells": [
    {
      "cell_type": "markdown",
      "metadata": {
        "id": "view-in-github",
        "colab_type": "text"
      },
      "source": [
        "<a href=\"https://colab.research.google.com/github/Tharunkumaa/Basic-ML/blob/main/Basic_ML.ipynb\" target=\"_parent\"><img src=\"https://colab.research.google.com/assets/colab-badge.svg\" alt=\"Open In Colab\"/></a>"
      ]
    },
    {
      "cell_type": "markdown",
      "metadata": {
        "id": "twwIJ7L7bbKe"
      },
      "source": [
        "Factofial of a number using functions"
      ]
    },
    {
      "cell_type": "code",
      "metadata": {
        "colab": {
          "base_uri": "https://localhost:8080/"
        },
        "id": "-lU09nDwbr2j",
        "outputId": "bc9ef048-6744-43ef-82f3-45094df61200"
      },
      "source": [
        "def factorial(n):\n",
        "    \n",
        "    fact = 1\n",
        "\n",
        "    if n == 0:\n",
        "          return 1\n",
        "\n",
        "    \n",
        "    for i in range(1,n+1):\n",
        "        fact = fact*i\n",
        "        \n",
        "    print(fact)\n",
        "        \n",
        "factorial(5)  # it will replace n by 5 and find it's factorial\n",
        "factorial(0)  \n",
        "\n"
      ],
      "execution_count": null,
      "outputs": [
        {
          "output_type": "stream",
          "text": [
            "120\n"
          ],
          "name": "stdout"
        },
        {
          "output_type": "execute_result",
          "data": {
            "text/plain": [
              "1"
            ]
          },
          "metadata": {
            "tags": []
          },
          "execution_count": 11
        }
      ]
    },
    {
      "cell_type": "markdown",
      "metadata": {
        "id": "_HbU965qfYE-"
      },
      "source": [
        "Some basic and common methods on lists"
      ]
    },
    {
      "cell_type": "code",
      "metadata": {
        "colab": {
          "base_uri": "https://localhost:8080/"
        },
        "id": "v4riCe07f_QZ",
        "outputId": "f1284b77-40be-4b5b-ea7b-14d5f12b342c"
      },
      "source": [
        "CSE = [\"M-2\",\"CEWS\",\"DLD\",\"AP\",\"APPL\",\"CI\",\"PPS\"]\n",
        "\n",
        "CSE.append(\"CTP\") #-->it will add CTP to our list at last position\n",
        "print(CSE.index(\"CEWS\")) #-->it will print the index of element\n",
        "print(CSE) #--> it will print our whole list\n",
        "#for i in CSE:     #--> it will print only our elements  \n",
        "  #print(i, end=\" \")\n",
        "\n",
        "CSE[0]=\"AC\" #--> it will replace 0 indexing position element by given element\n",
        "print(CSE)\n",
        "CSE.remove(\"CTP\") #-->this will remove CTP in our list \n",
        "print(CSE)\n",
        "\n"
      ],
      "execution_count": null,
      "outputs": [
        {
          "output_type": "stream",
          "text": [
            "1\n",
            "['M-2', 'CEWS', 'DLD', 'AP', 'APPL', 'CI', 'PPS', 'CTP']\n",
            "['AC', 'CEWS', 'DLD', 'AP', 'APPL', 'CI', 'PPS', 'CTP']\n",
            "['AC', 'CEWS', 'DLD', 'AP', 'APPL', 'CI', 'PPS']\n"
          ],
          "name": "stdout"
        }
      ]
    },
    {
      "cell_type": "markdown",
      "metadata": {
        "id": "E6sq8a7MF4mx"
      },
      "source": [
        "Logical operators in python"
      ]
    },
    {
      "cell_type": "code",
      "metadata": {
        "colab": {
          "base_uri": "https://localhost:8080/"
        },
        "id": "6cFGNH95GhyA",
        "outputId": "e1a73501-0edb-4b2b-ef4d-a97d6ddf06bb"
      },
      "source": [
        "temp = int(input(\"enter the temo outside: \"))\n",
        "if temp>=20 and temp<=35: #--this will be true if both conditions are true\n",
        "  print(\"THE TEMP IS GOOD TODAY !\")\n",
        "  print(\"YOU CAN GO OUTSIDE\")\n",
        "elif temp<=20 or temp>=35: #--this will be true if both one of conditions are true\n",
        "  print(\"THE TEMP IS BAD TODAY !\")\n",
        "  print(\"STAY INSIDE\")\n",
        "\n",
        "\n"
      ],
      "execution_count": null,
      "outputs": [
        {
          "output_type": "stream",
          "text": [
            "enter the temo outside: 50\n",
            "THE TEMP IS BAD TODAY !\n",
            "STAY INSIDE\n"
          ],
          "name": "stdout"
        }
      ]
    }
  ]
}